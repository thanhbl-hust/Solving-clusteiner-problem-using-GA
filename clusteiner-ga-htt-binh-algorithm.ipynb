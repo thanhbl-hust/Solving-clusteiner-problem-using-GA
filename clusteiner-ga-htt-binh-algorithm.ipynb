{
 "cells": [
  {
   "cell_type": "code",
   "execution_count": 1,
   "id": "2a00aa00",
   "metadata": {
    "_cell_guid": "b1076dfc-b9ad-4769-8c92-a6c4dae69d19",
    "_uuid": "8f2839f25d086af736a60e9eeb907d3b93b6e0e5",
    "execution": {
     "iopub.execute_input": "2023-09-06T13:41:18.095445Z",
     "iopub.status.busy": "2023-09-06T13:41:18.094727Z",
     "iopub.status.idle": "2023-09-06T13:41:18.106234Z",
     "shell.execute_reply": "2023-09-06T13:41:18.104853Z"
    },
    "papermill": {
     "duration": 0.024803,
     "end_time": "2023-09-06T13:41:18.110696",
     "exception": false,
     "start_time": "2023-09-06T13:41:18.085893",
     "status": "completed"
    },
    "tags": []
   },
   "outputs": [],
   "source": [
    "import time\n",
    "import numpy as np\n",
    "import matplotlib.pyplot as plt\n",
    "from queue import PriorityQueue"
   ]
  },
  {
   "cell_type": "code",
   "execution_count": 2,
   "id": "16291d01",
   "metadata": {
    "execution": {
     "iopub.execute_input": "2023-09-06T13:41:18.125221Z",
     "iopub.status.busy": "2023-09-06T13:41:18.124145Z",
     "iopub.status.idle": "2023-09-06T13:41:18.129235Z",
     "shell.execute_reply": "2023-09-06T13:41:18.128316Z"
    },
    "papermill": {
     "duration": 0.015298,
     "end_time": "2023-09-06T13:41:18.132204",
     "exception": false,
     "start_time": "2023-09-06T13:41:18.116906",
     "status": "completed"
    },
    "tags": []
   },
   "outputs": [],
   "source": [
    "N = None # number of vertices\n",
    "E = [] # contain edge\n",
    "k = None # number of clusters\n",
    "clusters = [] # contains vertiecs of each cluster\n",
    "a = [] # contain weight matrix"
   ]
  },
  {
   "cell_type": "code",
   "execution_count": 3,
   "id": "a095a4a4",
   "metadata": {
    "execution": {
     "iopub.execute_input": "2023-09-06T13:41:18.146619Z",
     "iopub.status.busy": "2023-09-06T13:41:18.145850Z",
     "iopub.status.idle": "2023-09-06T13:41:18.154614Z",
     "shell.execute_reply": "2023-09-06T13:41:18.153694Z"
    },
    "papermill": {
     "duration": 0.018735,
     "end_time": "2023-09-06T13:41:18.157219",
     "exception": false,
     "start_time": "2023-09-06T13:41:18.138484",
     "status": "completed"
    },
    "tags": []
   },
   "outputs": [],
   "source": [
    "def read_data(dist):\n",
    "    global N, E, clusters, k, a\n",
    "    N = None\n",
    "    E = []\n",
    "    a = []\n",
    "    clusters = []\n",
    "    k = None\n",
    "    with open(dist, 'r', encoding='utf-8') as f:\n",
    "        print(f.readline())\n",
    "        print(f.readline())\n",
    "        N = int(f.readline().split(' ')[2])\n",
    "        k = int(f.readline().split(' ')[1])\n",
    "        print(f.readline())\n",
    "        # print(f.readline())\n",
    "\n",
    "        for i in range(N):\n",
    "            tmp = f.readline().split()\n",
    "            # print(tmp)\n",
    "            for j in range(i+1, N):\n",
    "                E.append([i, j, int(tmp[j])])\n",
    "            \n",
    "            a.append([])\n",
    "            for j in range(N):\n",
    "                a[i].append(int(tmp[j]))\n",
    "\n",
    "        print(f.readline())\n",
    "        # print(f.readline())\n",
    "        for i in range(k):\n",
    "            tmp = f.readline().split()\n",
    "            tmp2 = []\n",
    "            for j in range(1, len(tmp)-1):\n",
    "                tmp2.append(int(tmp[j])-1)\n",
    "            clusters.append(tmp2)\n",
    "        print(clusters)\n",
    "# read_data(r'Data\\Type_1_Small\\5berlin52.txt') "
   ]
  },
  {
   "cell_type": "code",
   "execution_count": 4,
   "id": "8af5c832",
   "metadata": {
    "execution": {
     "iopub.execute_input": "2023-09-06T13:41:18.170865Z",
     "iopub.status.busy": "2023-09-06T13:41:18.170454Z",
     "iopub.status.idle": "2023-09-06T13:41:18.176565Z",
     "shell.execute_reply": "2023-09-06T13:41:18.175613Z"
    },
    "papermill": {
     "duration": 0.01533,
     "end_time": "2023-09-06T13:41:18.178806",
     "exception": false,
     "start_time": "2023-09-06T13:41:18.163476",
     "status": "completed"
    },
    "tags": []
   },
   "outputs": [],
   "source": [
    "class Chromosome:\n",
    "    # n la so cum\n",
    "    def __init__(self, n, arr = None):\n",
    "        if arr is None:\n",
    "            arr = np.arange(n, dtype = int)\n",
    "            np.random.shuffle(arr)\n",
    "            arr = arr.tolist()\n",
    "        self.arr = arr\n",
    "        self.fitness = -1\n",
    "    \n",
    "    def __call__(self):\n",
    "        return self.arr\n",
    "    \n",
    "# test = Chromosome(k)\n",
    "# print(test.arr)"
   ]
  },
  {
   "cell_type": "code",
   "execution_count": 5,
   "id": "1b552500",
   "metadata": {
    "execution": {
     "iopub.execute_input": "2023-09-06T13:41:18.193333Z",
     "iopub.status.busy": "2023-09-06T13:41:18.192218Z",
     "iopub.status.idle": "2023-09-06T13:41:18.202602Z",
     "shell.execute_reply": "2023-09-06T13:41:18.201642Z"
    },
    "papermill": {
     "duration": 0.020205,
     "end_time": "2023-09-06T13:41:18.205005",
     "exception": false,
     "start_time": "2023-09-06T13:41:18.184800",
     "status": "completed"
    },
    "tags": []
   },
   "outputs": [],
   "source": [
    "# calculate cost of a tree of a cluster_id with cluster_id's req vertices and some non_req vertices\n",
    "def cal_inner_cluster(cx, group):\n",
    "    # group is id of that cluster_id\n",
    "    global a\n",
    "    global N\n",
    "    res = 0\n",
    "    Vt = []\n",
    "    Et = []\n",
    "    d = [1e18]*N\n",
    "    p = [-1]*N\n",
    "    s = cx.index(group)\n",
    "    d[s] = 0\n",
    "    qu = PriorityQueue()\n",
    "    Vt.append(s)\n",
    "    qu.put((d[s], s))\n",
    "\n",
    "    while not qu.empty():\n",
    "        du, u = qu.get()\n",
    "        \n",
    "        if du>d[u]:\n",
    "            continue\n",
    "\n",
    "        if cx[u] == group:\n",
    "            v = u\n",
    "            while v not in Vt:\n",
    "                Vt.append(v)\n",
    "                Et.append([p[v], v])\n",
    "                d[v] = 0\n",
    "                qu.put((d[v], v))\n",
    "                v = p[v]\n",
    "                \n",
    "        for v in range(len(a[u])):\n",
    "            if cx[v]==-1 or cx[v]==group:\n",
    "                if d[u] + a[u][v] < d[v]:\n",
    "                    d[v] = d[u] + a[u][v]\n",
    "                    p[v] = u\n",
    "                    qu.put((d[v], v))\n",
    "    # mask vertices in group                \n",
    "    for i in Vt:\n",
    "        cx[i] = group\n",
    "    for u, v in Et:\n",
    "        res += a[u][v]\n",
    "    \n",
    "    return Vt, Et, res\n",
    "                "
   ]
  },
  {
   "cell_type": "code",
   "execution_count": 6,
   "id": "e9b583a6",
   "metadata": {
    "execution": {
     "iopub.execute_input": "2023-09-06T13:41:18.220790Z",
     "iopub.status.busy": "2023-09-06T13:41:18.219958Z",
     "iopub.status.idle": "2023-09-06T13:41:18.230341Z",
     "shell.execute_reply": "2023-09-06T13:41:18.228788Z"
    },
    "papermill": {
     "duration": 0.022468,
     "end_time": "2023-09-06T13:41:18.234271",
     "exception": false,
     "start_time": "2023-09-06T13:41:18.211803",
     "status": "completed"
    },
    "tags": []
   },
   "outputs": [],
   "source": [
    "# calculate cost between multiple clusters\n",
    "def cal_inter_cluster(vt):\n",
    "    global N\n",
    "    res = 0\n",
    "    Vt = []\n",
    "    Et = []\n",
    "    d = [1e18]*2*N\n",
    "    p = [-1]*2*N\n",
    "    s = 51\n",
    "    d[s] = 0\n",
    "    qu = PriorityQueue()\n",
    "    Vt.append(s)\n",
    "    qu.put((d[s], s))\n",
    "\n",
    "    while not qu.empty():\n",
    "        du, u = qu.get()\n",
    "        \n",
    "        if du>d[u]:\n",
    "            continue\n",
    "\n",
    "        if u >= N:\n",
    "            v = u\n",
    "            while v not in Vt:\n",
    "                Vt.append(v)\n",
    "                Et.append([p[v], v])\n",
    "                res += d[v] - d[p[v]]\n",
    "                d[v] = 0\n",
    "                qu.put((d[v], v))\n",
    "                v = p[v]\n",
    "                    \n",
    "        for v, w in vt[u]:\n",
    "            if d[u] + w < d[v]:\n",
    "                d[v] = d[u] + w\n",
    "                p[v] = u\n",
    "                qu.put((d[v], v))\n",
    " \n",
    "    \n",
    "    return Vt, Et, res\n",
    "                "
   ]
  },
  {
   "cell_type": "code",
   "execution_count": 7,
   "id": "699af8fd",
   "metadata": {
    "execution": {
     "iopub.execute_input": "2023-09-06T13:41:18.248132Z",
     "iopub.status.busy": "2023-09-06T13:41:18.247694Z",
     "iopub.status.idle": "2023-09-06T13:41:18.259065Z",
     "shell.execute_reply": "2023-09-06T13:41:18.257588Z"
    },
    "papermill": {
     "duration": 0.021212,
     "end_time": "2023-09-06T13:41:18.261693",
     "exception": false,
     "start_time": "2023-09-06T13:41:18.240481",
     "status": "completed"
    },
    "tags": []
   },
   "outputs": [],
   "source": [
    "# calculate total cost of a chromosome\n",
    "def cal_cost(chr: Chromosome):\n",
    "    if chr.fitness!= -1:\n",
    "        return chr.fitness\n",
    "    \n",
    "    global E, N\n",
    "    cost = 0 # cost of chromosome\n",
    "\n",
    "    cx = [-1]*N # note the vertex's cluster\n",
    "\n",
    "    for i in range(len(clusters)):\n",
    "        for j in clusters[i]:\n",
    "            cx[j] = i\n",
    "\n",
    "    # print(cx)\n",
    "    # prim + dijsktra on each cluster\n",
    "    for i in chr.arr: \n",
    "        _, _, tmp_cost = cal_inner_cluster(cx, i)\n",
    "        cost += tmp_cost\n",
    "\n",
    "    # contract thành một danh sách cạnh\n",
    "    dict = {}\n",
    "    for edge in E:\n",
    "        u = edge[0]\n",
    "        v = edge[1]\n",
    "        w = edge[2]\n",
    "        if cx[u] != -1:\n",
    "            u = cx[u] + N\n",
    "        if cx[v] != -1:\n",
    "            v = cx[v] + N\n",
    "        if u==v:\n",
    "            continue\n",
    "\n",
    "        # tạo edge và đỉnh kề cho từng đỉnh\n",
    "        if u > v:\n",
    "            u, v = v, u\n",
    "        \n",
    "        if (u, v) not in dict:\n",
    "            dict[(u, v)] = w\n",
    "        else:\n",
    "            dict[(u, v)] = min(w, dict[(u, v)])\n",
    "\n",
    "    # tạo danh sách cạnh kề\n",
    "    vt = [[] for i in range(2*N)] \n",
    "    for key, item in dict.items():\n",
    "        u = key[0]\n",
    "        v = key[1]\n",
    "        vt[u].append((v, item))\n",
    "        vt[v].append((u, item))\n",
    "        \n",
    "    _ , _, inter_cost = cal_inter_cluster(vt)\n",
    "    cost += inter_cost\n",
    "    chr.fitness = cost\n",
    "    return cost\n",
    "\n",
    "# cal_cost(test)"
   ]
  },
  {
   "cell_type": "code",
   "execution_count": 8,
   "id": "3ea342ff",
   "metadata": {
    "execution": {
     "iopub.execute_input": "2023-09-06T13:41:18.276271Z",
     "iopub.status.busy": "2023-09-06T13:41:18.275136Z",
     "iopub.status.idle": "2023-09-06T13:41:18.282668Z",
     "shell.execute_reply": "2023-09-06T13:41:18.281314Z"
    },
    "papermill": {
     "duration": 0.017652,
     "end_time": "2023-09-06T13:41:18.285307",
     "exception": false,
     "start_time": "2023-09-06T13:41:18.267655",
     "status": "completed"
    },
    "tags": []
   },
   "outputs": [],
   "source": [
    "def generate_chromosome(num):\n",
    "    population = []\n",
    "    global k\n",
    "    for i in range(num):\n",
    "        population.append(Chromosome(k))\n",
    "    \n",
    "    for i in range(len(population)):\n",
    "        cal_cost(population[i])\n",
    "    return population"
   ]
  },
  {
   "cell_type": "code",
   "execution_count": 9,
   "id": "88279d91",
   "metadata": {
    "execution": {
     "iopub.execute_input": "2023-09-06T13:41:18.300914Z",
     "iopub.status.busy": "2023-09-06T13:41:18.300457Z",
     "iopub.status.idle": "2023-09-06T13:41:18.307611Z",
     "shell.execute_reply": "2023-09-06T13:41:18.306240Z"
    },
    "papermill": {
     "duration": 0.018013,
     "end_time": "2023-09-06T13:41:18.310014",
     "exception": false,
     "start_time": "2023-09-06T13:41:18.292001",
     "status": "completed"
    },
    "tags": []
   },
   "outputs": [],
   "source": [
    "def multation(chromo):\n",
    "    global k\n",
    "    father = chromo()\n",
    "    point1, point2 = np.random.choice(np.arange(k), size=2, replace=False)\n",
    "    tmp = father[point1]\n",
    "    father[point1] = father[point2]\n",
    "    father[point2] = tmp\n",
    "    new_chromo = Chromosome(N)\n",
    "    new_chromo.arr = father\n",
    "    return new_chromo\n",
    "\n",
    "# print(test())\n",
    "# print(multation(test).arr)"
   ]
  },
  {
   "cell_type": "code",
   "execution_count": 10,
   "id": "d37037f0",
   "metadata": {
    "execution": {
     "iopub.execute_input": "2023-09-06T13:41:18.325162Z",
     "iopub.status.busy": "2023-09-06T13:41:18.324186Z",
     "iopub.status.idle": "2023-09-06T13:41:18.334641Z",
     "shell.execute_reply": "2023-09-06T13:41:18.333378Z"
    },
    "papermill": {
     "duration": 0.020553,
     "end_time": "2023-09-06T13:41:18.337198",
     "exception": false,
     "start_time": "2023-09-06T13:41:18.316645",
     "status": "completed"
    },
    "tags": []
   },
   "outputs": [],
   "source": [
    "def doublePointCrossover(chromo1, chromo2):\n",
    "    par1_city = chromo1()\n",
    "    par2_city = chromo2()\n",
    "\n",
    "    n = len(par1_city)\n",
    "    \n",
    "    i1, i2 = 0, 0\n",
    "    while i1==i2:\n",
    "        points = np.random.choice(range(len(par1_city) + 1), size = 2, replace=False) # lay diem cat\n",
    "        i1 = points[0]\n",
    "        i2 = points[1]\n",
    "    \n",
    "    child1_city = [None] * n\n",
    "    child2_city = [None] * n\n",
    "    if i1<i2:\n",
    "        child1_city[i1: i2] = par1_city[i1: i2]\n",
    "        child2_city[i1: i2] = par2_city[i1: i2]\n",
    "    else:\n",
    "        child1_city[i1: ], child1_city[: i2] = par1_city[i1: ], par1_city[ : i2]\n",
    "        child2_city[i1: ], child2_city[: i2] = par2_city[i1: ], par2_city[ : i2]\n",
    "\n",
    "    remaining_par1 = [x for x in par1_city if x not in child2_city] # những thằng có trong par1 k có trong child2\n",
    "    remaining_par2 = [x for x in par2_city if x not in child1_city]\n",
    "\n",
    "    # print(child2_city)\n",
    "    # print(remaining_par1)\n",
    "\n",
    "    for i in range(n):\n",
    "        if child1_city[i] is None:\n",
    "            child1_city[i] = remaining_par2.pop(0)\n",
    "            \n",
    "\n",
    "    for i in range(n):\n",
    "        if child2_city[i] is None:\n",
    "            child2_city[i] = remaining_par1.pop(0)\n",
    "\n",
    "    new_chromo1 = Chromosome(n, arr = child1_city)\n",
    "    new_chromo2 = Chromosome(n, arr =  child2_city)\n",
    "    return new_chromo1, new_chromo2"
   ]
  },
  {
   "cell_type": "code",
   "execution_count": 11,
   "id": "2c7c6826",
   "metadata": {
    "execution": {
     "iopub.execute_input": "2023-09-06T13:41:18.351493Z",
     "iopub.status.busy": "2023-09-06T13:41:18.351095Z",
     "iopub.status.idle": "2023-09-06T13:41:18.357702Z",
     "shell.execute_reply": "2023-09-06T13:41:18.356327Z"
    },
    "papermill": {
     "duration": 0.01729,
     "end_time": "2023-09-06T13:41:18.360510",
     "exception": false,
     "start_time": "2023-09-06T13:41:18.343220",
     "status": "completed"
    },
    "tags": []
   },
   "outputs": [],
   "source": [
    "def choose_best(parent_pop, children_pop):\n",
    "    n = len(parent_pop)\n",
    "    mixed_pop = parent_pop + children_pop\n",
    "    for i in range(len(children_pop)):\n",
    "        cal_cost(children_pop[i])\n",
    "    for i in range(len(parent_pop)):   \n",
    "        cal_cost(parent_pop[i])\n",
    "        \n",
    "    mixed_pop = sorted(mixed_pop, key = lambda x: x.fitness)\n",
    "    return mixed_pop[:n]"
   ]
  },
  {
   "cell_type": "code",
   "execution_count": 12,
   "id": "e8d50a93",
   "metadata": {
    "execution": {
     "iopub.execute_input": "2023-09-06T13:41:18.373775Z",
     "iopub.status.busy": "2023-09-06T13:41:18.373359Z",
     "iopub.status.idle": "2023-09-06T13:41:18.381795Z",
     "shell.execute_reply": "2023-09-06T13:41:18.380376Z"
    },
    "papermill": {
     "duration": 0.018172,
     "end_time": "2023-09-06T13:41:18.384532",
     "exception": false,
     "start_time": "2023-09-06T13:41:18.366360",
     "status": "completed"
    },
    "tags": []
   },
   "outputs": [],
   "source": [
    "def cross_over_population(num_pop, parent_pop, multation_rate = 0.2, rate = 0.1):\n",
    "    for i in range(len(parent_pop)):\n",
    "        cal_cost(parent_pop[i])\n",
    "    child_pop = []\n",
    "    num_to_rand = int(num_pop*rate) # số lượng lấy sample\n",
    "    for i in range(num_pop):\n",
    "        tmp_par = np.random.choice(parent_pop, size=num_to_rand, replace=False)\n",
    "        tmp_par = sorted(tmp_par, key = lambda x: x.fitness)\n",
    "        parent1, parent2 = tmp_par[0: 2]\n",
    "        child1, child2 = doublePointCrossover(parent1, parent2)\n",
    "        random_value = np.random.rand()\n",
    "        if random_value <= multation_rate:\n",
    "            child1 = multation(child1)\n",
    "            child2 = multation(child2)\n",
    "        \n",
    "        child_pop.append(child1)\n",
    "        child_pop.append(child2)\n",
    "    return child_pop"
   ]
  },
  {
   "cell_type": "code",
   "execution_count": 13,
   "id": "5bf78a18",
   "metadata": {
    "execution": {
     "iopub.execute_input": "2023-09-06T13:41:18.400766Z",
     "iopub.status.busy": "2023-09-06T13:41:18.400355Z",
     "iopub.status.idle": "2023-09-06T13:41:18.407033Z",
     "shell.execute_reply": "2023-09-06T13:41:18.405842Z"
    },
    "papermill": {
     "duration": 0.016462,
     "end_time": "2023-09-06T13:41:18.409462",
     "exception": false,
     "start_time": "2023-09-06T13:41:18.393000",
     "status": "completed"
    },
    "tags": []
   },
   "outputs": [],
   "source": [
    "# calculate cost for 1 population after some generation with 1 certain seed\n",
    "def main(num_pop = 100, num_gen = 500, mutation_rate = 0.2, seed = 42):\n",
    "    np.random.seed(seed=seed)\n",
    "    global N\n",
    "    population = generate_chromosome(num_pop)\n",
    "    for gen in range(num_gen):\n",
    "        child_pop = cross_over_population(num_pop, population, multation_rate=mutation_rate, rate=0.1)\n",
    "        population = choose_best(parent_pop=population, children_pop=child_pop)\n",
    "        # print(f'gen {gen}: {population[0].fitness}, {population[0].arr[:10]},\\n {child_pop[0].fitness}, {child_pop[0].arr[:10]}')\n",
    "    # print(f'seed: {seed}, result = {population[0].fitness}, {population[0].arr[:10]}')\n",
    "    return population[0].fitness\n"
   ]
  },
  {
   "cell_type": "code",
   "execution_count": 14,
   "id": "b5affdea",
   "metadata": {
    "execution": {
     "iopub.execute_input": "2023-09-06T13:41:18.422588Z",
     "iopub.status.busy": "2023-09-06T13:41:18.422192Z",
     "iopub.status.idle": "2023-09-06T14:40:20.823753Z",
     "shell.execute_reply": "2023-09-06T14:40:20.822427Z"
    },
    "papermill": {
     "duration": 3542.418554,
     "end_time": "2023-09-06T14:40:20.833790",
     "exception": false,
     "start_time": "2023-09-06T13:41:18.415236",
     "status": "completed"
    },
    "tags": []
   },
   "outputs": [
    {
     "name": "stdout",
     "output_type": "stream",
     "text": [
      "Name : 10eil51\n",
      "\n",
      "TYPE: NON_EUC_CLUSTERED_TREE\n",
      "\n",
      "EDGE_WEIGHT_SECTION:\n",
      "\n",
      "CLUSTER_SECTION:\n",
      "\n",
      "[[5], [12], [0, 25, 30], [3, 24], [4], [10], [14, 36, 43], [1, 49], [2, 19], [9]]\n",
      "Seed 0 is running...\n",
      "Seed 1 is running...\n",
      "Seed 2 is running...\n",
      "Seed 3 is running...\n",
      "Seed 4 is running...\n",
      "Seed 5 is running...\n",
      "Seed 6 is running...\n",
      "Seed 7 is running...\n",
      "Seed 8 is running...\n",
      "Seed 9 is running...\n",
      "Seed 10 is running...\n",
      "Seed 11 is running...\n",
      "Seed 12 is running...\n",
      "Seed 13 is running...\n",
      "Seed 14 is running...\n",
      "Seed 15 is running...\n",
      "Seed 16 is running...\n",
      "Seed 17 is running...\n",
      "Seed 18 is running...\n",
      "Seed 19 is running...\n",
      "Seed 20 is running...\n",
      "Seed 21 is running...\n",
      "Seed 22 is running...\n",
      "Seed 23 is running...\n",
      "Seed 24 is running...\n",
      "Seed 25 is running...\n",
      "Seed 26 is running...\n",
      "Seed 27 is running...\n",
      "Seed 28 is running...\n",
      "Seed 29 is running...\n",
      "Over 30 seeds, avg_fitness: 887.0, best_fitness: 887, time(s): 3542.381\n"
     ]
    },
    {
     "data": {
      "text/plain": [
       "887.0"
      ]
     },
     "execution_count": 14,
     "metadata": {},
     "output_type": "execute_result"
    }
   ],
   "source": [
    "# calculate cost for multi_seed (eg: from 1 to 30)\n",
    "def cost_avg(seeds = 30):\n",
    "    start_time = time.time()\n",
    "    avg_fitness = 0\n",
    "    best_fitness = 1e19\n",
    "    for i in range(seeds):\n",
    "        print(f'Seed {i} is running...')\n",
    "        tmp_fitness = main(num_pop=100, num_gen=50, mutation_rate=0.2, seed=i)\n",
    "        best_fitness = min(best_fitness, tmp_fitness)\n",
    "        avg_fitness += tmp_fitness\n",
    "    avg_fitness /= seeds\n",
    "    end_time = time.time()\n",
    "    execution_time = round(end_time - start_time, 3)\n",
    "    print(f'Over 30 seeds, avg_fitness: {avg_fitness}, best_fitness: {best_fitness}, time(s): {execution_time}')\n",
    "    return avg_fitness\n",
    "file_input = \"/kaggle/input/steiner/datasteiner/10eil51.txt\"\n",
    "read_data(file_input)\n",
    "cost_avg()"
   ]
  }
 ],
 "kernelspec": {
  "display_name": "Python 3",
  "language": "python",
  "name": "python3"
 },
 "language_info": {
  "codemirror_mode": {
   "name": "ipython",
   "version": 3
  },
  "file_extension": ".py",
  "mimetype": "text/x-python",
  "name": "python",
  "nbconvert_exporter": "python",
  "pygments_lexer": "ipython3",
  "version": "3.6.4"
 },
 "metadata": {
  "kernelspec": {
   "display_name": "Python 3",
   "language": "python",
   "name": "python3"
  },
  "language_info": {
   "codemirror_mode": {
    "name": "ipython",
    "version": 3
   },
   "file_extension": ".py",
   "mimetype": "text/x-python",
   "name": "python",
   "nbconvert_exporter": "python",
   "pygments_lexer": "ipython3",
   "version": "3.10.12"
  },
  "papermill": {
   "default_parameters": {},
   "duration": 3546.567427,
   "end_time": "2023-09-06T14:40:21.270569",
   "environment_variables": {},
   "exception": null,
   "input_path": "__notebook__.ipynb",
   "output_path": "__notebook__.ipynb",
   "parameters": {},
   "start_time": "2023-09-06T13:41:14.703142",
   "version": "2.4.0"
  }
 },
 "nbformat": 4,
 "nbformat_minor": 5
}

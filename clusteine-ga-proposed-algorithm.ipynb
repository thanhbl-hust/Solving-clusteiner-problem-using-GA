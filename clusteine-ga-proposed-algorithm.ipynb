{
 "cells": [
  {
   "cell_type": "code",
   "execution_count": 1,
   "id": "126d5ba9",
   "metadata": {
    "execution": {
     "iopub.execute_input": "2023-09-06T13:39:08.269127Z",
     "iopub.status.busy": "2023-09-06T13:39:08.268660Z",
     "iopub.status.idle": "2023-09-06T13:39:08.281404Z",
     "shell.execute_reply": "2023-09-06T13:39:08.280408Z"
    },
    "papermill": {
     "duration": 0.023608,
     "end_time": "2023-09-06T13:39:08.283617",
     "exception": false,
     "start_time": "2023-09-06T13:39:08.260009",
     "status": "completed"
    },
    "tags": []
   },
   "outputs": [
    {
     "name": "stdout",
     "output_type": "stream",
     "text": [
      "CluSteiner using proposed algorithm.\n"
     ]
    }
   ],
   "source": [
    "print(\"CluSteiner using proposed algorithm.\")"
   ]
  },
  {
   "cell_type": "code",
   "execution_count": 2,
   "id": "f5bd4514",
   "metadata": {
    "execution": {
     "iopub.execute_input": "2023-09-06T13:39:08.298972Z",
     "iopub.status.busy": "2023-09-06T13:39:08.298140Z",
     "iopub.status.idle": "2023-09-06T13:39:08.303635Z",
     "shell.execute_reply": "2023-09-06T13:39:08.302676Z"
    },
    "papermill": {
     "duration": 0.015838,
     "end_time": "2023-09-06T13:39:08.305888",
     "exception": false,
     "start_time": "2023-09-06T13:39:08.290050",
     "status": "completed"
    },
    "tags": []
   },
   "outputs": [],
   "source": [
    "import time\n",
    "import numpy as np\n",
    "import matplotlib.pyplot as plt\n",
    "from queue import PriorityQueue"
   ]
  },
  {
   "cell_type": "code",
   "execution_count": 3,
   "id": "e46a0eb8",
   "metadata": {
    "execution": {
     "iopub.execute_input": "2023-09-06T13:39:08.321310Z",
     "iopub.status.busy": "2023-09-06T13:39:08.320377Z",
     "iopub.status.idle": "2023-09-06T13:39:08.326295Z",
     "shell.execute_reply": "2023-09-06T13:39:08.325363Z"
    },
    "papermill": {
     "duration": 0.01605,
     "end_time": "2023-09-06T13:39:08.328482",
     "exception": false,
     "start_time": "2023-09-06T13:39:08.312432",
     "status": "completed"
    },
    "tags": []
   },
   "outputs": [],
   "source": [
    "N = None # number of vertices\n",
    "E = [] # contains edge\n",
    "k = None # number of clusters\n",
    "clusters = [] # contains vertiecs of each cluster\n",
    "a = [] # contain weight matrix\n",
    "non_req = None # number of non_req vertices\n",
    "mapping_non_req = {} # used for mapping each element of chromosome to each non_req vertex"
   ]
  },
  {
   "cell_type": "code",
   "execution_count": 4,
   "id": "55d6ab0c",
   "metadata": {
    "execution": {
     "iopub.execute_input": "2023-09-06T13:39:08.342557Z",
     "iopub.status.busy": "2023-09-06T13:39:08.342165Z",
     "iopub.status.idle": "2023-09-06T13:39:08.353073Z",
     "shell.execute_reply": "2023-09-06T13:39:08.352067Z"
    },
    "papermill": {
     "duration": 0.021412,
     "end_time": "2023-09-06T13:39:08.356114",
     "exception": false,
     "start_time": "2023-09-06T13:39:08.334702",
     "status": "completed"
    },
    "tags": []
   },
   "outputs": [],
   "source": [
    "def check_exist(arr, element):\n",
    "    return any(element in row for row in arr)\n",
    "\n",
    "def read_data(dist):\n",
    "    global N, E, clusters, k, a, non_req, mapping_non_req\n",
    "    N = None\n",
    "    E = []\n",
    "    a = []\n",
    "    clusters = []\n",
    "    k = None\n",
    "    non_req = None\n",
    "    mapping_non_req = {}\n",
    "    with open(dist, 'r', encoding='utf-8') as f:\n",
    "        print(f.readline())\n",
    "        print(f.readline())\n",
    "        N = int(f.readline().split(' ')[2])\n",
    "        k = int(f.readline().split(' ')[1])\n",
    "        non_req = N\n",
    "        print(f.readline())\n",
    "        # print(f.readline())\n",
    "\n",
    "        for i in range(N):\n",
    "            tmp = f.readline().split()\n",
    "            # print(tmp)\n",
    "            for j in range(i+1, N):\n",
    "                E.append([i, j, int(tmp[j])])\n",
    "            \n",
    "            a.append([])\n",
    "            for j in range(N):\n",
    "                a[i].append(int(tmp[j]))\n",
    "\n",
    "        print(f.readline())\n",
    "        # print(f.readline())\n",
    "        for i in range(k):\n",
    "            tmp = f.readline().split()\n",
    "            tmp2 = []\n",
    "            for j in range(1, len(tmp)-1):\n",
    "                tmp2.append(int(tmp[j])-1)\n",
    "                non_req -= 1\n",
    "            clusters.append(tmp2)\n",
    "        \n",
    "        cnt = 0\n",
    "        for i in range(N):\n",
    "            if not check_exist(clusters, i):\n",
    "                mapping_non_req[cnt] = i\n",
    "                cnt += 1\n",
    "\n",
    "        print(clusters)\n",
    "        # print(non_req)\n",
    "        # print(mapping_non_req)\n",
    "        \n"
   ]
  },
  {
   "cell_type": "code",
   "execution_count": 5,
   "id": "ac1246c8",
   "metadata": {
    "execution": {
     "iopub.execute_input": "2023-09-06T13:39:08.373413Z",
     "iopub.status.busy": "2023-09-06T13:39:08.372633Z",
     "iopub.status.idle": "2023-09-06T13:39:08.379951Z",
     "shell.execute_reply": "2023-09-06T13:39:08.378942Z"
    },
    "papermill": {
     "duration": 0.017011,
     "end_time": "2023-09-06T13:39:08.382252",
     "exception": false,
     "start_time": "2023-09-06T13:39:08.365241",
     "status": "completed"
    },
    "tags": []
   },
   "outputs": [],
   "source": [
    "class Chromosome:\n",
    "    # n la so đỉnh free\n",
    "    # k la sô cụm\n",
    "    def __init__(self, non_req, k, arr = None):\n",
    "        if arr is None:\n",
    "            arr = np.random.randint(0, k, non_req)\n",
    "            np.random.shuffle(arr)\n",
    "            arr = arr.tolist()\n",
    "        self.arr = arr\n",
    "        self.fitness = -1\n",
    "    \n",
    "    def __call__(self):\n",
    "        return self.arr\n",
    "    \n",
    "# test = Chromosome(non_req, k)\n",
    "# print(test.arr)\n",
    "    \n"
   ]
  },
  {
   "cell_type": "code",
   "execution_count": 6,
   "id": "7ec4c977",
   "metadata": {
    "execution": {
     "iopub.execute_input": "2023-09-06T13:39:08.401267Z",
     "iopub.status.busy": "2023-09-06T13:39:08.400336Z",
     "iopub.status.idle": "2023-09-06T13:39:08.406592Z",
     "shell.execute_reply": "2023-09-06T13:39:08.405491Z"
    },
    "papermill": {
     "duration": 0.017576,
     "end_time": "2023-09-06T13:39:08.408917",
     "exception": false,
     "start_time": "2023-09-06T13:39:08.391341",
     "status": "completed"
    },
    "tags": []
   },
   "outputs": [],
   "source": [
    "def multation(chromo):\n",
    "    global k, non_req\n",
    "    point = np.random.randint(non_req)\n",
    "    e = np.random.randint(k)\n",
    "    chromo()[point] = e\n",
    "    return chromo\n",
    "\n",
    "# print(test())\n",
    "# print(multation(test).arr)"
   ]
  },
  {
   "cell_type": "code",
   "execution_count": 7,
   "id": "5fd03a04",
   "metadata": {
    "execution": {
     "iopub.execute_input": "2023-09-06T13:39:08.423673Z",
     "iopub.status.busy": "2023-09-06T13:39:08.423268Z",
     "iopub.status.idle": "2023-09-06T13:39:08.434632Z",
     "shell.execute_reply": "2023-09-06T13:39:08.433807Z"
    },
    "papermill": {
     "duration": 0.021632,
     "end_time": "2023-09-06T13:39:08.436997",
     "exception": false,
     "start_time": "2023-09-06T13:39:08.415365",
     "status": "completed"
    },
    "tags": []
   },
   "outputs": [],
   "source": [
    "# tạo 2 điểm cắt, đưa 2 đoạn cắt ở giữa của 2 cha cho 2 con\n",
    "# phần còn lại cộng/trừ 2 vector với hệ số làm nhiễu ngẫu nhiên rồi ghép vào 2 con\n",
    "def doublePointCrossover(chromo1, chromo2):\n",
    "    global k\n",
    "    par1_city = chromo1()\n",
    "    par2_city = chromo2()\n",
    "\n",
    "    n = len(par1_city)\n",
    "    \n",
    "    i1, i2 = 0, 0\n",
    "    while i1>=i2:\n",
    "        points = np.random.choice(range(len(par1_city) + 1), size = 2, replace=False) # lay diem cat\n",
    "        i1 = points[0]\n",
    "        i2 = points[1]\n",
    "\n",
    "    # print(f'{i1} {i2}')\n",
    "\n",
    "    child1_city = [None] * n\n",
    "    child2_city = [None] * n\n",
    "    child1_city[i1: i2] = par2_city[i1: i2]\n",
    "    child2_city[i1: i2] = par1_city[i1: i2]\n",
    "    \n",
    "    remaining_par1 = np.array(par1_city[:i1] + par1_city[i2:])\n",
    "    remaining_par2 = np.array(par2_city[:i1] + par2_city[i2:])\n",
    "\n",
    "    # print(child2_city)\n",
    "    # print(remaining_par1)\n",
    "    e1 = np.random.randint(0, k, size = n - (i2 - i1))\n",
    "    e2 = np.random.randint(0, k, size = n - (i2 - i1))\n",
    "    # print(e1)\n",
    "    # print(e2)\n",
    "    sum_for_child1 = (remaining_par1 + remaining_par2 + e1) % k\n",
    "    sum_for_child2 = (remaining_par1 - remaining_par2 + e2) % k\n",
    "\n",
    "    child1_city[:i1], child1_city[i2:] = sum_for_child1[:i1], sum_for_child1[i1:]\n",
    "    child2_city[:i1], child2_city[i2:] = sum_for_child2[:i1], sum_for_child2[i1:]\n",
    "    \n",
    "\n",
    "    new_chromo1 = Chromosome(n, k, arr = child1_city)\n",
    "    new_chromo2 = Chromosome(n, k, arr = child2_city)\n",
    "    return new_chromo1, new_chromo2\n",
    "\n",
    "# test1 = Chromosome(non_req, k)\n",
    "# test2 = Chromosome(non_req, k)\n",
    "# print(test1())\n",
    "# print(test2())\n",
    "# new1, new2 = doublePointCrossover(test1, test2) \n",
    "# print(new1())\n",
    "# print(new2())"
   ]
  },
  {
   "cell_type": "code",
   "execution_count": 8,
   "id": "b0de6404",
   "metadata": {
    "execution": {
     "iopub.execute_input": "2023-09-06T13:39:08.451714Z",
     "iopub.status.busy": "2023-09-06T13:39:08.450922Z",
     "iopub.status.idle": "2023-09-06T13:39:08.461471Z",
     "shell.execute_reply": "2023-09-06T13:39:08.460032Z"
    },
    "papermill": {
     "duration": 0.020899,
     "end_time": "2023-09-06T13:39:08.464175",
     "exception": false,
     "start_time": "2023-09-06T13:39:08.443276",
     "status": "completed"
    },
    "tags": []
   },
   "outputs": [],
   "source": [
    "# calculate cost of a tree of a cluster_id with some cluster_id's req vertices and some non_req vertices\n",
    "def cal_inner_cluster(cx, group, non_req_list = []):\n",
    "    # group is id of cluster\n",
    "    # non_req_list is non_req vertices can be added to minimum tree of cluster_id\n",
    "    global a\n",
    "    global N\n",
    "    res = 0\n",
    "    Vt = []\n",
    "    Et = []\n",
    "    d = [1e18]*N\n",
    "    p = [-1]*N\n",
    "    s = cx.index(group)\n",
    "    d[s] = 0\n",
    "    qu = PriorityQueue()\n",
    "    Vt.append(s)\n",
    "    qu.put((d[s], s))\n",
    "\n",
    "    while not qu.empty():\n",
    "        du, u = qu.get()\n",
    "        \n",
    "        if du>d[u]:\n",
    "            continue\n",
    "\n",
    "        if cx[u] == group: # đỉnh req\n",
    "            v = u\n",
    "            while v not in Vt: \n",
    "                Vt.append(v)\n",
    "                Et.append([p[v], v])\n",
    "                d[v] = 0\n",
    "                qu.put((d[v], v))\n",
    "                v = p[v]\n",
    "        for v in range(len(a[u])):\n",
    "            if (cx[v]==-1 and v in non_req_list) or cx[v]==group:\n",
    "                if d[u] + a[u][v] < d[v]:\n",
    "                    d[v] = d[u] + a[u][v]\n",
    "                    p[v] = u\n",
    "                    qu.put((d[v], v))\n",
    "    for i in Vt:\n",
    "        cx[i] = group\n",
    "    for u, v in Et:\n",
    "        res += a[u][v]\n",
    "    \n",
    "    return Vt, Et, res\n",
    "                "
   ]
  },
  {
   "cell_type": "code",
   "execution_count": 9,
   "id": "ff970bfb",
   "metadata": {
    "execution": {
     "iopub.execute_input": "2023-09-06T13:39:08.477811Z",
     "iopub.status.busy": "2023-09-06T13:39:08.477412Z",
     "iopub.status.idle": "2023-09-06T13:39:08.486320Z",
     "shell.execute_reply": "2023-09-06T13:39:08.485185Z"
    },
    "papermill": {
     "duration": 0.018471,
     "end_time": "2023-09-06T13:39:08.488687",
     "exception": false,
     "start_time": "2023-09-06T13:39:08.470216",
     "status": "completed"
    },
    "tags": []
   },
   "outputs": [],
   "source": [
    "def cal_inter_cluster(vt):\n",
    "    global N\n",
    "    res = 0\n",
    "    Vt = []\n",
    "    Et = []\n",
    "    d = [1e18]*2*N\n",
    "    p = [-1]*2*N\n",
    "    s = 51\n",
    "    d[s] = 0\n",
    "    qu = PriorityQueue()\n",
    "    Vt.append(s)\n",
    "    qu.put((d[s], s))\n",
    "\n",
    "    while not qu.empty():\n",
    "        du, u = qu.get()\n",
    "        \n",
    "        if du>d[u]:\n",
    "            continue\n",
    "\n",
    "        if u >= N: # đỉnh req\n",
    "            v = u\n",
    "            while v not in Vt:\n",
    "                Vt.append(v)\n",
    "                Et.append([p[v], v])\n",
    "                res += d[v] - d[p[v]]\n",
    "                d[v] = 0\n",
    "                qu.put((d[v], v))\n",
    "                v = p[v]\n",
    "\n",
    "        for v, w in vt[u]:\n",
    "            if d[u] + w < d[v]:\n",
    "                d[v] = d[u] + w\n",
    "                p[v] = u\n",
    "                qu.put((d[v], v))\n",
    " \n",
    "    \n",
    "    return Vt, Et, res\n",
    "                "
   ]
  },
  {
   "cell_type": "code",
   "execution_count": 10,
   "id": "bc541c2f",
   "metadata": {
    "execution": {
     "iopub.execute_input": "2023-09-06T13:39:08.503735Z",
     "iopub.status.busy": "2023-09-06T13:39:08.502944Z",
     "iopub.status.idle": "2023-09-06T13:39:08.514719Z",
     "shell.execute_reply": "2023-09-06T13:39:08.513741Z"
    },
    "papermill": {
     "duration": 0.021959,
     "end_time": "2023-09-06T13:39:08.517200",
     "exception": false,
     "start_time": "2023-09-06T13:39:08.495241",
     "status": "completed"
    },
    "tags": []
   },
   "outputs": [],
   "source": [
    "def cal_cost(chr: Chromosome):\n",
    "    if chr.fitness!= -1:\n",
    "        return chr.fitness\n",
    "    \n",
    "    global N, E, clusters, k, a, non_req, mapping_non_req\n",
    "    cost = 0 # cost of chromosome\n",
    "\n",
    "    cx = [-1]*N # note the vertex's cluster\n",
    "\n",
    "    for i in range(len(clusters)):\n",
    "        for j in clusters[i]:\n",
    "            cx[j] = i\n",
    "\n",
    "    # print(cx)\n",
    "    # prim + dijsktra on each cluster\n",
    "    non_req_list = [[] for i in range(k)]\n",
    "    for i in range(len(chr.arr)):\n",
    "        non_req_list[chr.arr[i]].append(mapping_non_req[i])\n",
    "    \n",
    "    # print(non_req_list)\n",
    "\n",
    "    for i in range(k): \n",
    "        _, _, tmp_cost = cal_inner_cluster(cx, i, non_req_list=non_req_list[i])\n",
    "        cost += tmp_cost\n",
    "\n",
    "    # print(cx)\n",
    "    \n",
    "    # contract thành một danh sách cạnh\n",
    "    dict = {}\n",
    "    for edge in E:\n",
    "        u = edge[0]\n",
    "        v = edge[1]\n",
    "        w = edge[2]\n",
    "        if cx[u] != -1:\n",
    "            u = cx[u] + N\n",
    "        if cx[v] != -1:\n",
    "            v = cx[v] + N\n",
    "        if u==v:\n",
    "            continue\n",
    "\n",
    "        # tạo edge và đỉnh kề cho từng đỉnh\n",
    "        if u > v:\n",
    "            u, v = v, u\n",
    "        \n",
    "        if (u, v) not in dict:\n",
    "            dict[(u, v)] = w\n",
    "        else:\n",
    "            dict[(u, v)] = min(w, dict[(u, v)])\n",
    "\n",
    "    # tạo danh sách cạnh kề\n",
    "    vt = [[] for i in range(2*N)] \n",
    "    for key, item in dict.items():\n",
    "        u = key[0]\n",
    "        v = key[1]\n",
    "        vt[u].append((v, item))\n",
    "        vt[v].append((u, item))\n",
    "        \n",
    "    _ , _, inter_cost = cal_inter_cluster(vt)\n",
    "    cost += inter_cost\n",
    "    chr.fitness = cost\n",
    "    return cost\n",
    "\n",
    "# [[14, 26, 30, 37, 43, 48], [8, 20, 32, 33, 36, 46], [5, 11, 16, 18, 23, 27, 28, 38], [4, 22, 25, 29, 31, 34, 42, 44], [6, 9, 17, 19, 24, 35, 39, 40, 47, 49, 50]]\n",
    "# print(cal_cost(test))\n",
    "# print(test())"
   ]
  },
  {
   "cell_type": "code",
   "execution_count": 11,
   "id": "3e50575f",
   "metadata": {
    "execution": {
     "iopub.execute_input": "2023-09-06T13:39:08.531751Z",
     "iopub.status.busy": "2023-09-06T13:39:08.530957Z",
     "iopub.status.idle": "2023-09-06T13:39:08.536887Z",
     "shell.execute_reply": "2023-09-06T13:39:08.535986Z"
    },
    "papermill": {
     "duration": 0.016067,
     "end_time": "2023-09-06T13:39:08.539397",
     "exception": false,
     "start_time": "2023-09-06T13:39:08.523330",
     "status": "completed"
    },
    "tags": []
   },
   "outputs": [],
   "source": [
    "def generate_chromosome(num):\n",
    "    population = []\n",
    "    global k\n",
    "    for i in range(num):\n",
    "        population.append(Chromosome(non_req, k))\n",
    "    \n",
    "    for i in range(len(population)):\n",
    "        cal_cost(population[i])\n",
    "    return population\n"
   ]
  },
  {
   "cell_type": "code",
   "execution_count": 12,
   "id": "e3495b56",
   "metadata": {
    "execution": {
     "iopub.execute_input": "2023-09-06T13:39:08.554126Z",
     "iopub.status.busy": "2023-09-06T13:39:08.553097Z",
     "iopub.status.idle": "2023-09-06T13:39:08.559651Z",
     "shell.execute_reply": "2023-09-06T13:39:08.558779Z"
    },
    "papermill": {
     "duration": 0.016414,
     "end_time": "2023-09-06T13:39:08.561972",
     "exception": false,
     "start_time": "2023-09-06T13:39:08.545558",
     "status": "completed"
    },
    "tags": []
   },
   "outputs": [],
   "source": [
    "def choose_best(parent_pop, children_pop):\n",
    "    n = len(parent_pop)\n",
    "    mixed_pop = parent_pop + children_pop\n",
    "    for i in range(len(children_pop)):\n",
    "        cal_cost(children_pop[i])\n",
    "    for i in range(len(parent_pop)):   \n",
    "        cal_cost(parent_pop[i])\n",
    "        \n",
    "    mixed_pop = sorted(mixed_pop, key = lambda x: x.fitness)\n",
    "    return mixed_pop[:n]"
   ]
  },
  {
   "cell_type": "code",
   "execution_count": 13,
   "id": "db5becf3",
   "metadata": {
    "execution": {
     "iopub.execute_input": "2023-09-06T13:39:08.576658Z",
     "iopub.status.busy": "2023-09-06T13:39:08.575916Z",
     "iopub.status.idle": "2023-09-06T13:39:08.583389Z",
     "shell.execute_reply": "2023-09-06T13:39:08.582604Z"
    },
    "papermill": {
     "duration": 0.017353,
     "end_time": "2023-09-06T13:39:08.585907",
     "exception": false,
     "start_time": "2023-09-06T13:39:08.568554",
     "status": "completed"
    },
    "tags": []
   },
   "outputs": [],
   "source": [
    "def cross_over_population(num_pop, parent_pop, multation_rate = 0.2, rate = 0.1):\n",
    "    for i in range(len(parent_pop)):\n",
    "        cal_cost(parent_pop[i])\n",
    "    child_pop = []\n",
    "    num_to_rand = int(num_pop*rate) # số lượng lấy sample\n",
    "    for i in range(num_pop):\n",
    "        tmp_par = np.random.choice(parent_pop, size=num_to_rand, replace=False)\n",
    "        tmp_par = sorted(tmp_par, key = lambda x: x.fitness)\n",
    "        parent1, parent2 = tmp_par[0: 2]\n",
    "        child1, child2 = doublePointCrossover(parent1, parent2)\n",
    "        random_value = np.random.rand()\n",
    "        if random_value <= multation_rate:\n",
    "            child1 = multation(child1)\n",
    "            child2 = multation(child2)\n",
    "        \n",
    "        child_pop.append(child1)\n",
    "        child_pop.append(child2)\n",
    "    return child_pop"
   ]
  },
  {
   "cell_type": "code",
   "execution_count": 14,
   "id": "9f591eb9",
   "metadata": {
    "execution": {
     "iopub.execute_input": "2023-09-06T13:39:08.600741Z",
     "iopub.status.busy": "2023-09-06T13:39:08.599949Z",
     "iopub.status.idle": "2023-09-06T13:39:08.608451Z",
     "shell.execute_reply": "2023-09-06T13:39:08.607540Z"
    },
    "papermill": {
     "duration": 0.018989,
     "end_time": "2023-09-06T13:39:08.610920",
     "exception": false,
     "start_time": "2023-09-06T13:39:08.591931",
     "status": "completed"
    },
    "tags": []
   },
   "outputs": [],
   "source": [
    "# calculate cost for 1 population after some generation with 1 certain seed\n",
    "def main(num_pop = 100, num_gen = 500, mutation_rate = 0.2, seed = 42, plot=False):\n",
    "    np.random.seed(seed=seed)\n",
    "    global N\n",
    "    best_chr = []\n",
    "    population = generate_chromosome(num_pop)\n",
    "    for gen in range(num_gen):\n",
    "        child_pop = cross_over_population(num_pop, population, multation_rate=mutation_rate, rate=0.1)\n",
    "        population = choose_best(parent_pop=population, children_pop=child_pop)\n",
    "        # print(f'gen {gen}: {population[0].fitness}, {population[0].arr[:10]},\\n {child_pop[0].fitness}, {child_pop[0].arr[:10]}')\n",
    "        best_chr.append(population[0].fitness)\n",
    "    # print(f'seed: {seed}, result = {population[0].fitness}, {population[0].arr[:-5]}')\n",
    "    if plot:\n",
    "        indices = range(0, num_gen)\n",
    "        plt.plot(indices, best_chr)\n",
    "        plt.text(indices[-1], best_chr[-1], str(best_chr[-1]), ha='right', va='bottom')\n",
    "        # Đặt nhãn cho trục x và trục y\n",
    "        plt.xlabel('Best_Fitness')\n",
    "        plt.ylabel('No generation')\n",
    "        plt.show()\n",
    "        \n",
    "    return population[0].fitness\n"
   ]
  },
  {
   "cell_type": "code",
   "execution_count": 15,
   "id": "a89ec2ff",
   "metadata": {
    "execution": {
     "iopub.execute_input": "2023-09-06T13:39:08.625674Z",
     "iopub.status.busy": "2023-09-06T13:39:08.624866Z",
     "iopub.status.idle": "2023-09-06T13:45:35.306601Z",
     "shell.execute_reply": "2023-09-06T13:45:35.305720Z"
    },
    "papermill": {
     "duration": 386.70181,
     "end_time": "2023-09-06T13:45:35.318957",
     "exception": false,
     "start_time": "2023-09-06T13:39:08.617147",
     "status": "completed"
    },
    "tags": []
   },
   "outputs": [
    {
     "name": "stdout",
     "output_type": "stream",
     "text": [
      "Name : 10eil51\n",
      "\n",
      "TYPE: NON_EUC_CLUSTERED_TREE\n",
      "\n",
      "EDGE_WEIGHT_SECTION:\n",
      "\n",
      "CLUSTER_SECTION:\n",
      "\n",
      "[[5], [12], [0, 25, 30], [3, 24], [4], [10], [14, 36, 43], [1, 49], [2, 19], [9]]\n",
      "Seed 0 is running...\n"
     ]
    },
    {
     "data": {
      "image/png": "[encoded data removed]",
      "text/plain": [
       "<Figure size 640x480 with 1 Axes>"
      ]
     },
     "metadata": {},
     "output_type": "display_data"
    },
    {
     "name": "stdout",
     "output_type": "stream",
     "text": [
      "Seed 1 is running...\n"
     ]
    },
    {
     "data": {
      "image/png": "[encoded data removed]",
      "text/plain": [
       "<Figure size 640x480 with 1 Axes>"
      ]
     },
     "metadata": {},
     "output_type": "display_data"
    },
    {
     "name": "stdout",
     "output_type": "stream",
     "text": [
      "Seed 2 is running...\n"
     ]
    },
    {
     "data": {
      "image/png": "[encoded data removed]",
      "text/plain": [
       "<Figure size 640x480 with 1 Axes>"
      ]
     },
     "metadata": {},
     "output_type": "display_data"
    },
    {
     "name": "stdout",
     "output_type": "stream",
     "text": [
      "Seed 3 is running...\n"
     ]
    },
    {
     "data": {
      "image/png": "[encoded data removed]",
      "text/plain": [
       "<Figure size 640x480 with 1 Axes>"
      ]
     },
     "metadata": {},
     "output_type": "display_data"
    },
    {
     "name": "stdout",
     "output_type": "stream",
     "text": [
      "Seed 4 is running...\n"
     ]
    },
    {
     "data": {
      "image/png": "[encoded data removed]",
      "text/plain": [
       "<Figure size 640x480 with 1 Axes>"
      ]
     },
     "metadata": {},
     "output_type": "display_data"
    },
    {
     "name": "stdout",
     "output_type": "stream",
     "text": [
      "Over 30 seeds, avg_fitness: 914.8, best_fitness: 887, time(s): 386.657\n"
     ]
    },
    {
     "data": {
      "text/plain": [
       "914.8"
      ]
     },
     "execution_count": 15,
     "metadata": {},
     "output_type": "execute_result"
    }
   ],
   "source": [
    "# calculate cost for multi_seed (eg: from 1 to 30)\n",
    "def cost_avg(seeds = 30, plot = True):\n",
    "    start_time = time.time()\n",
    "    avg_fitness = 0\n",
    "    best_fitness = 1e19\n",
    "    for i in range(seeds):\n",
    "        print(f'Seed {i} is running...')\n",
    "        tmp_fitness = main(num_pop=200, num_gen=50, mutation_rate=0.2, seed=i, plot=plot)\n",
    "        best_fitness = min(best_fitness, tmp_fitness)\n",
    "        avg_fitness += tmp_fitness\n",
    "    avg_fitness /= seeds\n",
    "    end_time = time.time()\n",
    "    execution_time = round(end_time - start_time, 3)\n",
    "    print(f'Over 30 seeds, avg_fitness: {avg_fitness}, best_fitness: {best_fitness}, time(s): {execution_time}')\n",
    "    \n",
    "    return avg_fitness\n",
    "\n",
    "file_input = \"/kaggle/input/steiner/datasteiner/10eil51.txt\"\n",
    "read_data(file_input)\n",
    "cost_avg(seeds=5)"
   ]
  }
 ],
 "kernelspec": {
  "display_name": "Python 3",
  "language": "python",
  "name": "python3"
 },
 "language_info": {
  "codemirror_mode": {
   "name": "ipython",
   "version": 3
  },
  "file_extension": ".py",
  "mimetype": "text/x-python",
  "name": "python",
  "nbconvert_exporter": "python",
  "pygments_lexer": "ipython3",
  "version": "3.6.4"
 },
 "metadata": {
  "kernelspec": {
   "display_name": "Python 3",
   "language": "python",
   "name": "python3"
  },
  "language_info": {
   "codemirror_mode": {
    "name": "ipython",
    "version": 3
   },
   "file_extension": ".py",
   "mimetype": "text/x-python",
   "name": "python",
   "nbconvert_exporter": "python",
   "pygments_lexer": "ipython3",
   "version": "3.10.12"
  },
  "papermill": {
   "default_parameters": {},
   "duration": 390.72765,
   "end_time": "2023-09-06T13:45:35.748929",
   "environment_variables": {},
   "exception": null,
   "input_path": "__notebook__.ipynb",
   "output_path": "__notebook__.ipynb",
   "parameters": {},
   "start_time": "2023-09-06T13:39:05.021279",
   "version": "2.4.0"
  }
 },
 "nbformat": 4,
 "nbformat_minor": 5
}
